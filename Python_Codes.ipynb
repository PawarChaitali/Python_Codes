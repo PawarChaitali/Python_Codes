{
 "cells": [
  {
   "cell_type": "markdown",
   "id": "56a683a3-32d6-4eb5-98b3-0690d5684ee0",
   "metadata": {},
   "source": [
    "### Program 01: Program to find the largest number from a list"
   ]
  },
  {
   "cell_type": "code",
   "execution_count": 8,
   "id": "514804f1-3141-4f95-9b37-63690025fcbc",
   "metadata": {},
   "outputs": [
    {
     "name": "stdin",
     "output_type": "stream",
     "text": [
      "Enter the list of numbers: 9,21,3,4,5\n"
     ]
    },
    {
     "name": "stdout",
     "output_type": "stream",
     "text": [
      "Largest_number in the list: 21\n"
     ]
    }
   ],
   "source": [
    "def largest_num(lst):\n",
    "    largest_number=0\n",
    "    for ele in lst:\n",
    "        if ele>largest_number:\n",
    "            largest_number=ele\n",
    "    print(\"Largest_number in the list:\",largest_number)\n",
    "    # return largest_number\n",
    "    \n",
    "user_input=list(map(int,input(\"Enter the list of numbers:\").split(\",\")))\n",
    "largest_num(user_input)"
   ]
  },
  {
   "cell_type": "markdown",
   "id": "86d6b61f-16e9-4da0-b5f6-d44871d29309",
   "metadata": {},
   "source": [
    "### Program 02: Program to count the number of occurences in a string"
   ]
  },
  {
   "cell_type": "code",
   "execution_count": 10,
   "id": "add940b8-7f11-4bcc-b5c0-f2bedb5fbb99",
   "metadata": {},
   "outputs": [
    {
     "name": "stdin",
     "output_type": "stream",
     "text": [
      "Write String to count alphabets: Apple\n"
     ]
    },
    {
     "name": "stdout",
     "output_type": "stream",
     "text": [
      "{'A': 1, 'p': 2, 'l': 1, 'e': 1}\n"
     ]
    }
   ],
   "source": [
    "def count_alphabets(str1):\n",
    "    alpha_counting={}\n",
    "    for alphabets in str1:\n",
    "        if alphabets in alpha_counting:\n",
    "            alpha_counting[alphabets]+=1\n",
    "        else:\n",
    "            alpha_counting[alphabets]=1\n",
    "    print(alpha_counting)\n",
    "user_input=str(input(\"Write String to count alphabets:\"))\n",
    "count_alphabets(user_input)"
   ]
  },
  {
   "cell_type": "code",
   "execution_count": null,
   "id": "c7669d9f-d3d5-4809-b772-a3b55e724df1",
   "metadata": {},
   "outputs": [],
   "source": []
  }
 ],
 "metadata": {
  "kernelspec": {
   "display_name": "Python 3 (ipykernel)",
   "language": "python",
   "name": "python3"
  },
  "language_info": {
   "codemirror_mode": {
    "name": "ipython",
    "version": 3
   },
   "file_extension": ".py",
   "mimetype": "text/x-python",
   "name": "python",
   "nbconvert_exporter": "python",
   "pygments_lexer": "ipython3",
   "version": "3.12.7"
  }
 },
 "nbformat": 4,
 "nbformat_minor": 5
}
