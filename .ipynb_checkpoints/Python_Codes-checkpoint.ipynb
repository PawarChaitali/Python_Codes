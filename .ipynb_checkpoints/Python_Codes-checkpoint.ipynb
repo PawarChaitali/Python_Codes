{
 "cells": [
  {
   "cell_type": "markdown",
   "id": "2b25cdf1-ffa9-42ef-99ff-b6bb187efbe3",
   "metadata": {},
   "source": [
    "### Program 01: Program to find even & odd numbers"
   ]
  },
  {
   "cell_type": "code",
   "execution_count": 1,
   "id": "355e65ce-8b7a-4e9c-a15d-bc9d4fe0b53e",
   "metadata": {},
   "outputs": [
    {
     "name": "stdout",
     "output_type": "stream",
     "text": [
      "Number is odd\n"
     ]
    }
   ],
   "source": [
    "def even_odd(num):\n",
    "        if num%2==0:\n",
    "            print(\"Number is even\")\n",
    "        else:\n",
    "            print(\"Number is odd\")\n",
    "even_odd(5)"
   ]
  },
  {
   "cell_type": "markdown",
   "id": "57e9912d-1a28-4e95-a96b-b552f7d767f8",
   "metadata": {},
   "source": [
    "### Program 02: Program to find voting eligibility"
   ]
  },
  {
   "cell_type": "code",
   "execution_count": 2,
   "id": "0cc3f30e-0225-4f55-8336-12ef049a82f4",
   "metadata": {},
   "outputs": [
    {
     "name": "stdout",
     "output_type": "stream",
     "text": [
      "You are eligible for voting\n"
     ]
    }
   ],
   "source": [
    "def check_age(age):\n",
    "    if age>=18:\n",
    "        print(\"You are eligible for voting\")\n",
    "    elif age<18:\n",
    "        print(\"You are not eligible for voting\")\n",
    "check_age(49)"
   ]
  },
  {
   "cell_type": "markdown",
   "id": "56a683a3-32d6-4eb5-98b3-0690d5684ee0",
   "metadata": {},
   "source": [
    "### Program 03: Program to find the largest number from a list"
   ]
  },
  {
   "cell_type": "code",
   "execution_count": 4,
   "id": "514804f1-3141-4f95-9b37-63690025fcbc",
   "metadata": {},
   "outputs": [
    {
     "name": "stdin",
     "output_type": "stream",
     "text": [
      "Enter the list of numbers: 147,12,131,99\n"
     ]
    },
    {
     "name": "stdout",
     "output_type": "stream",
     "text": [
      "Largest_number in the list: 147\n"
     ]
    }
   ],
   "source": [
    "def largest_num(lst):\n",
    "    largest_number=0\n",
    "    for ele in lst:\n",
    "        if ele>largest_number:\n",
    "            largest_number=ele\n",
    "    print(\"Largest_number in the list:\",largest_number)\n",
    "    # return largest_number\n",
    "    \n",
    "user_input=list(map(int,input(\"Enter the list of numbers:\").split(\",\")))\n",
    "largest_num(user_input)"
   ]
  },
  {
   "cell_type": "markdown",
   "id": "965b6f3e-d382-4a3a-bae8-0850ba11d9a8",
   "metadata": {},
   "source": [
    "### Program 04: Program to find second largest number from a list"
   ]
  },
  {
   "cell_type": "code",
   "execution_count": 5,
   "id": "be12f6fc-a55d-40fa-8e4c-2a30aa6a951a",
   "metadata": {},
   "outputs": [
    {
     "name": "stdout",
     "output_type": "stream",
     "text": [
      "[1, 2, 4, 7, 9]\n",
      "Second largest num is: 7\n"
     ]
    }
   ],
   "source": [
    "def second_largest(lst):\n",
    "    nums = list(set(lst))\n",
    "    print(nums)\n",
    "    if len(lst)<2:\n",
    "        print(\"No second largest num\")\n",
    "    else:\n",
    "        nums.sort()\n",
    "        print(\"Second largest num is:\", nums[-2])\n",
    "lst=[4,2,7,1,9]\n",
    "second_largest(lst)"
   ]
  },
  {
   "cell_type": "markdown",
   "id": "86d6b61f-16e9-4da0-b5f6-d44871d29309",
   "metadata": {},
   "source": [
    "### Program 05: Program to count the number of occurences in a string"
   ]
  },
  {
   "cell_type": "code",
   "execution_count": 7,
   "id": "add940b8-7f11-4bcc-b5c0-f2bedb5fbb99",
   "metadata": {},
   "outputs": [
    {
     "name": "stdin",
     "output_type": "stream",
     "text": [
      "Write String to count alphabets: Friday vibes\n"
     ]
    },
    {
     "name": "stdout",
     "output_type": "stream",
     "text": [
      "{'F': 1, 'r': 1, 'i': 2, 'd': 1, 'a': 1, 'y': 1, ' ': 1, 'v': 1, 'b': 1, 'e': 1, 's': 1}\n"
     ]
    }
   ],
   "source": [
    "def count_alphabets(str1):\n",
    "    alpha_counting={}\n",
    "    for alphabets in str1:\n",
    "        if alphabets in alpha_counting:\n",
    "            alpha_counting[alphabets]+=1\n",
    "        else:\n",
    "            alpha_counting[alphabets]=1\n",
    "    print(alpha_counting)\n",
    "user_input=str(input(\"Write String to count alphabets:\"))\n",
    "count_alphabets(user_input)"
   ]
  },
  {
   "cell_type": "markdown",
   "id": "fa117451-b60a-4e5a-ae9c-2341659bef91",
   "metadata": {},
   "source": [
    "### Program 06:\n",
    "Problem: Given two lists of equal length, calculate the sum of corresponding elements using zip() \n",
    "and a for loop. Return the results in a new list. Use list comprehension for bonus points."
   ]
  },
  {
   "cell_type": "code",
   "execution_count": 8,
   "id": "888bfaac-ca78-4c87-afc1-b46e5ee14db3",
   "metadata": {},
   "outputs": [
    {
     "name": "stdout",
     "output_type": "stream",
     "text": [
      "Corresponding sum: [3, 2, 5, 7]\n"
     ]
    }
   ],
   "source": [
    "def sum_corr_ele(lst1,lst2):\n",
    "    final_sum=[]\n",
    "    for i,j in zip(lst1,lst2):\n",
    "        # print(i,j)\n",
    "        sum1=i+j\n",
    "        final_sum.append(sum1)\n",
    "    print(\"Corresponding sum:\",final_sum)\n",
    "lst1=[1,1,2,3]\n",
    "lst2=[2,1,3,4]\n",
    "sum_corr_ele(lst1,lst2)"
   ]
  },
  {
   "cell_type": "markdown",
   "id": "52206b01-ed13-4b58-a533-046afd5a92ba",
   "metadata": {},
   "source": [
    "### Program 07:\n",
    "Problem: Given an array of integers, move all zeroes to the end of the array without changing the order of the\n",
    "non-zero elements."
   ]
  },
  {
   "cell_type": "code",
   "execution_count": 9,
   "id": "3a756e9b-f7b7-4c05-9a24-8466021cb205",
   "metadata": {},
   "outputs": [
    {
     "name": "stdout",
     "output_type": "stream",
     "text": [
      "[1, 3, 12, 4, 0, 0, 0]\n"
     ]
    }
   ],
   "source": [
    "def move_zeroes(num):\n",
    "    non_zero_idx = 0\n",
    "    for i in range(len(num)):\n",
    "        if num[i] != 0:\n",
    "            num[non_zero_idx] = num[i]\n",
    "            non_zero_idx += 1\n",
    "    for i in range(non_zero_idx, len(num)):\n",
    "        num[i] = 0\n",
    "    return num\n",
    "print(move_zeroes([0,1,0,3,12,4,0]))         "
   ]
  },
  {
   "cell_type": "code",
   "execution_count": 24,
   "id": "37396ae4-33ba-414e-b060-3e257391b077",
   "metadata": {},
   "outputs": [
    {
     "name": "stdout",
     "output_type": "stream",
     "text": [
      "Method 01: [1, 2, 1, 3, 2, 7, 8, 9, 0, 0, 0, 0, 0]\n",
      "Method 02: [1, 2, 1, 3, 2, 7, 8, 9, 0, 0, 0, 0, 0]\n"
     ]
    }
   ],
   "source": [
    "# Method 01:\n",
    "lst=[1,2,1,3,2,0,7,8,0,0,0,0,9]\n",
    "temp=[]\n",
    "zeros = []\n",
    "for i in lst:\n",
    "    if i != 0:\n",
    "        temp.append(i)\n",
    "    else:\n",
    "        zeros.append(i)\n",
    "temp.extend(zeros)\n",
    "print(\"Method 01:\",temp)\n",
    "\n",
    "# Method 02:\n",
    "temp2=[]\n",
    "for j in lst:\n",
    "    no_of_zeros = len(lst) - len(temp2)\n",
    "    for j in range(no_of_zeros):\n",
    "        temp2.append(0)\n",
    "print(\"Method 02:\",temp)"
   ]
  },
  {
   "cell_type": "markdown",
   "id": "120f2968-bcf9-4ffe-922c-3322e53cae4b",
   "metadata": {},
   "source": [
    "### Program 08\n",
    "Problem: Given two lists of equal length, I want to add new age & name in the existing lists"
   ]
  },
  {
   "cell_type": "code",
   "execution_count": 14,
   "id": "5c0078cd-dbd4-4232-8a75-ca4e444dcfb4",
   "metadata": {},
   "outputs": [
    {
     "name": "stdout",
     "output_type": "stream",
     "text": [
      "Method 01:\n",
      "Names: ['C', 'A', 'F', 'B', 'D', 'E']\n",
      "Ages: [12, 23, 25, 54, 67, 89]\n",
      "Method 02:\n",
      "Names: ['C', 'A', 'F', 'B', 'D', 'E']\n",
      "Ages: [12, 23, 25, 54, 67, 89]\n"
     ]
    }
   ],
   "source": [
    "# Method 01:\n",
    "names=[\"A\",\"B\",\"C\",\"D\",\"E\"]\n",
    "ages=[23,54,12,67,89]\n",
    "ages.append(25)\n",
    "names.append(\"F\")\n",
    "temp=[]\n",
    "new_names=[]\n",
    "new_ages=[]\n",
    "for i in range(len(names)):\n",
    "    temp.append((ages[i], names[i]))\n",
    "    temp.sort()\n",
    "for age,name in temp:\n",
    "    new_ages.append(age)\n",
    "    new_names.append(name)\n",
    "print(\"Method 01:\")\n",
    "print(\"Names:\",new_names)\n",
    "print(\"Ages:\",new_ages)\n",
    "\n",
    "\n",
    "# Method 02:\n",
    "dc = dict(zip(ages,names))\n",
    "lst = dict(sorted(dc.items(),key= lambda x : x[0]))\n",
    "a=list(lst.keys())\n",
    "b=list(lst.values())\n",
    "print(\"Method 02:\")\n",
    "print(\"Names:\",b)\n",
    "print(\"Ages:\",a)"
   ]
  },
  {
   "cell_type": "markdown",
   "id": "dd0588d9-993a-4226-a407-aa18f4831dea",
   "metadata": {},
   "source": [
    "### Program 09"
   ]
  },
  {
   "cell_type": "markdown",
   "id": "c507050b-e37d-4e59-9d2d-7dfc3d0853a8",
   "metadata": {},
   "source": [
    "##### Problem: Code to seperate ages & names from a string"
   ]
  },
  {
   "cell_type": "code",
   "execution_count": 15,
   "id": "40c2cc35-36fc-47e4-917d-dfd974649daf",
   "metadata": {},
   "outputs": [
    {
     "name": "stdout",
     "output_type": "stream",
     "text": [
      "Names: ['John', 'Anna', 'Lora']\n",
      "Ages: ['33', '44', '32']\n"
     ]
    }
   ],
   "source": [
    "string = \"John33Anna44Lora32\"\n",
    "temp_names=\"\"\n",
    "temp_ages=\"\"\n",
    "for i in string:\n",
    "    if i.isalpha():\n",
    "        temp_names+=i\n",
    "    else:\n",
    "        temp_names+=\" \"\n",
    "    if i.isdigit():\n",
    "        temp_ages+=i\n",
    "    else:\n",
    "        temp_ages+=\" \"\n",
    "names=temp_names.split()\n",
    "ages=temp_ages.split()\n",
    "print(\"Names:\",names)\n",
    "print(\"Ages:\",ages)"
   ]
  },
  {
   "cell_type": "markdown",
   "id": "31d63004-403e-46ec-b2bc-8e43151b5886",
   "metadata": {},
   "source": [
    "### Program 10"
   ]
  },
  {
   "cell_type": "markdown",
   "id": "bd9e6137-ee5b-4140-a9fc-306ff59cfd8d",
   "metadata": {},
   "source": [
    "##### Problem: Reverse the string(complete word not characters)"
   ]
  },
  {
   "cell_type": "code",
   "execution_count": 16,
   "id": "de12843b-4142-40b5-95fa-22a31a45a472",
   "metadata": {},
   "outputs": [
    {
     "name": "stdout",
     "output_type": "stream",
     "text": [
      "world Hello\n"
     ]
    }
   ],
   "source": [
    "str1=\"Hello world\"\n",
    "a=str1.split()\n",
    "reversed_str=a[::-1]\n",
    "final_reveresd_str=\" \".join(reversed_str)\n",
    "print(final_reveresd_str)"
   ]
  }
 ],
 "metadata": {
  "kernelspec": {
   "display_name": "Python 3 (ipykernel)",
   "language": "python",
   "name": "python3"
  },
  "language_info": {
   "codemirror_mode": {
    "name": "ipython",
    "version": 3
   },
   "file_extension": ".py",
   "mimetype": "text/x-python",
   "name": "python",
   "nbconvert_exporter": "python",
   "pygments_lexer": "ipython3",
   "version": "3.9.23"
  }
 },
 "nbformat": 4,
 "nbformat_minor": 5
}
